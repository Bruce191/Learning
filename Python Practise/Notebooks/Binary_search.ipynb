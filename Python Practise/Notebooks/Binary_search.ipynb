{
 "cells": [
  {
   "cell_type": "markdown",
   "id": "9c528287",
   "metadata": {},
   "source": [
    "How to perfom a binary search"
   ]
  },
  {
   "cell_type": "markdown",
   "id": "7d66476f",
   "metadata": {},
   "source": [
    "Lets first discuss implementation in plain text\n",
    "\n",
    "1.\tFind the middle element of the list\n",
    "2.\tIf the middle element is the target, return the element\n",
    "3.\tIf it is less than the target, then search the first half\n",
    "4.\tIf it is greater, then search the second half\n",
    "5. If it is not found, return -1"
   ]
  },
  {
   "cell_type": "code",
   "execution_count": 22,
   "id": "a2d54d8c",
   "metadata": {},
   "outputs": [],
   "source": [
    "def locate_card(cards, target):\n",
    "    low, high = 0, len(cards) - 1\n",
    "    \n",
    "    while low <= high:\n",
    "        mid = (low + high) // 2\n",
    "        mid_number = cards[mid]\n",
    "\n",
    "        if mid_number == target:\n",
    "            return mid\n",
    "        elif mid_number < target:\n",
    "            low = mid + 1      # move right\n",
    "        else:                  # mid_number > target\n",
    "            high = mid - 1     # move left\n",
    "\n",
    "    return -1"
   ]
  },
  {
   "cell_type": "markdown",
   "id": "3723acd8",
   "metadata": {},
   "source": [
    "Calling the function with cards and target"
   ]
  },
  {
   "cell_type": "code",
   "execution_count": 23,
   "id": "b41a498e",
   "metadata": {},
   "outputs": [],
   "source": [
    "tests = []"
   ]
  },
  {
   "cell_type": "code",
   "execution_count": 24,
   "id": "ea3d6725",
   "metadata": {},
   "outputs": [],
   "source": [
    "tests.append({\n",
    "    \"Nums\": {\"cards\": [1, 11, 10, 7, 4, 3, 1, 0]},\n",
    "    \"target\": 7\n",
    "})"
   ]
  },
  {
   "cell_type": "code",
   "execution_count": 25,
   "id": "24f95942",
   "metadata": {},
   "outputs": [
    {
     "name": "stdout",
     "output_type": "stream",
     "text": [
      "3\n"
     ]
    }
   ],
   "source": [
    "for t in tests:\n",
    "    print(locate_card(**t[\"Nums\"], target=t[\"target\"]))"
   ]
  }
 ],
 "metadata": {
  "kernelspec": {
   "display_name": "Python 3",
   "language": "python",
   "name": "python3"
  },
  "language_info": {
   "codemirror_mode": {
    "name": "ipython",
    "version": 3
   },
   "file_extension": ".py",
   "mimetype": "text/x-python",
   "name": "python",
   "nbconvert_exporter": "python",
   "pygments_lexer": "ipython3",
   "version": "3.12.10"
  }
 },
 "nbformat": 4,
 "nbformat_minor": 5
}
