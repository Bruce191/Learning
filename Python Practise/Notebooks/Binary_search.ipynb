{
 "cells": [
  {
   "cell_type": "markdown",
   "id": "9c528287",
   "metadata": {},
   "source": [
    "How to perfom a binary search"
   ]
  },
  {
   "cell_type": "markdown",
   "id": "7d66476f",
   "metadata": {},
   "source": [
    "Lets first discuss implementation in plain text\n",
    "\n",
    "1.\tFind the middle element of the list\n",
    "2.\tIf the middle element is the target, return the element\n",
    "3.\tIf it is less than the target, then search the first half\n",
    "4.\tIf it is greater, then search the second half\n",
    "5. If it is not found, return -1"
   ]
  },
  {
   "cell_type": "code",
   "execution_count": 12,
   "id": "a2d54d8c",
   "metadata": {},
   "outputs": [],
   "source": [
    "def locate_card(cards, target):\n",
    "    #low ifs the first element in the list\n",
    "    #hi is the last element (-1 due to 0 being the first index)\n",
    "\n",
    "    low, high = 0, len(cards) - 1\n",
    "    \n",
    "    while low <= high:\n",
    "        #getting the middle value (step 1)\n",
    "        mid = (low + high) // 2\n",
    "        mid_number = cards[mid]\n",
    "\n",
    "        #step 2, if the middle element is the target return it\n",
    "        if mid_number == target:\n",
    "            return mid\n",
    "        #step3\n",
    "        elif mid_number < target:\n",
    "            high = mid - 1\n",
    "        #step4\n",
    "        elif mid_number > target:\n",
    "            low = mid + 1\n",
    "\n",
    "        #step 5 target not found, so we return -1\n",
    "    return -1"
   ]
  },
  {
   "cell_type": "markdown",
   "id": "3723acd8",
   "metadata": {},
   "source": [
    "Calling the function with cards and target"
   ]
  },
  {
   "cell_type": "code",
   "execution_count": 13,
   "id": "e91591e1",
   "metadata": {},
   "outputs": [
    {
     "data": {
      "text/plain": [
       "1"
      ]
     },
     "execution_count": 13,
     "metadata": {},
     "output_type": "execute_result"
    }
   ],
   "source": [
    "locate_card([1,7,3,5,2,9,1],7)"
   ]
  }
 ],
 "metadata": {
  "kernelspec": {
   "display_name": "Python 3",
   "language": "python",
   "name": "python3"
  },
  "language_info": {
   "codemirror_mode": {
    "name": "ipython",
    "version": 3
   },
   "file_extension": ".py",
   "mimetype": "text/x-python",
   "name": "python",
   "nbconvert_exporter": "python",
   "pygments_lexer": "ipython3",
   "version": "3.12.10"
  }
 },
 "nbformat": 4,
 "nbformat_minor": 5
}
