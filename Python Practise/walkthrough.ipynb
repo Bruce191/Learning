{
 "cells": [
  {
   "cell_type": "code",
   "execution_count": 55,
   "id": "b628ec78",
   "metadata": {},
   "outputs": [],
   "source": [
    "def locate_card(cards, target):\n",
    "    \"\"\"\n",
    "    Returns the index of target in a descending sorted array 'cards'.\n",
    "    If target is not found, returns -1.\n",
    "    \"\"\"\n",
    "    for i, card in enumerate(cards):\n",
    "        if card == target:\n",
    "            return i\n",
    "    return -1"
   ]
  },
  {
   "cell_type": "markdown",
   "id": "87a3a823",
   "metadata": {},
   "source": [
    "Creating the test cases. We create these with dictionaries for ease of testing"
   ]
  },
  {
   "cell_type": "code",
   "execution_count": 56,
   "id": "e49395e5",
   "metadata": {},
   "outputs": [],
   "source": [
    "test = {\n",
    "    \"Input\": {\"cards\": [13,11,10,7,4,3,1,0], \"target\": 7},\n",
    "    \"Output\": 3\n",
    "}"
   ]
  },
  {
   "cell_type": "code",
   "execution_count": 57,
   "id": "196a5746",
   "metadata": {},
   "outputs": [
    {
     "name": "stdout",
     "output_type": "stream",
     "text": [
      "Test passed!\n"
     ]
    }
   ],
   "source": [
    "assert locate_card(**test[\"Input\"]) == test[\"Output\"], f\"Test failed: expected {test['Output']}\"\n",
    "print(\"Test passed!\")"
   ]
  }
 ],
 "metadata": {
  "kernelspec": {
   "display_name": "Python 3",
   "language": "python",
   "name": "python3"
  },
  "language_info": {
   "codemirror_mode": {
    "name": "ipython",
    "version": 3
   },
   "file_extension": ".py",
   "mimetype": "text/x-python",
   "name": "python",
   "nbconvert_exporter": "python",
   "pygments_lexer": "ipython3",
   "version": "3.12.10"
  }
 },
 "nbformat": 4,
 "nbformat_minor": 5
}
