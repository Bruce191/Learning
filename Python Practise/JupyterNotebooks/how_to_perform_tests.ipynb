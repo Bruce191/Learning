{
 "cells": [
  {
   "cell_type": "code",
   "execution_count": null,
   "id": "b628ec78",
   "metadata": {},
   "outputs": [],
   "source": [
    "def locate_card(cards, target):\n",
    "    for i, card in enumerate(cards):\n",
    "        if card == target:\n",
    "            return i\n",
    "    return -1\n"
   ]
  },
  {
   "cell_type": "markdown",
   "id": "878bb958",
   "metadata": {},
   "source": [
    "Creating a list of tests we are going to perfom in a list of dicts"
   ]
  },
  {
   "cell_type": "code",
   "execution_count": null,
   "id": "ea39d0d6",
   "metadata": {},
   "outputs": [],
   "source": [
    "tests = []"
   ]
  },
  {
   "cell_type": "markdown",
   "id": "39d7821b",
   "metadata": {},
   "source": [
    "Creating the test cases. We create these with dictionaries for ease of testing"
   ]
  },
  {
   "cell_type": "code",
   "execution_count": null,
   "id": "5620242a",
   "metadata": {},
   "outputs": [],
   "source": [
    "#1 target is in the beginning\n",
    "tests.append({\n",
    "    \"Nums\": {\"cards\": [7,11,10,13,4,3,1,0], \"target\": 7},\n",
    "    \"Index_found\": 0\n",
    "})"
   ]
  },
  {
   "cell_type": "code",
   "execution_count": null,
   "id": "e49395e5",
   "metadata": {},
   "outputs": [],
   "source": [
    "#2 target is in the middle\n",
    "tests.append({\n",
    "    \"Nums\": {\"cards\": [13,11,10,7,4,3,1,0], \"target\": 7},\n",
    "    \"Index_found\": 3\n",
    "})"
   ]
  },
  {
   "cell_type": "code",
   "execution_count": null,
   "id": "16403c72",
   "metadata": {},
   "outputs": [],
   "source": [
    "#3 target is at the end\n",
    "tests.append({\n",
    "    \"Nums\": {\"cards\": [13,11,10,5,4,3,1,7], \"target\": 7},\n",
    "    \"Index_found\": 7\n",
    "})"
   ]
  },
  {
   "cell_type": "markdown",
   "id": "6904913c",
   "metadata": {},
   "source": [
    "As we can see, tests list holds multiple dicts"
   ]
  },
  {
   "cell_type": "code",
   "execution_count": null,
   "id": "dd91b0c7",
   "metadata": {},
   "outputs": [],
   "source": [
    "tests"
   ]
  },
  {
   "cell_type": "code",
   "execution_count": null,
   "id": "f2b254ad",
   "metadata": {},
   "outputs": [],
   "source": [
    "for t in tests:\n",
    "    print(locate_card(**t['Nums']) == t['Index_found'])"
   ]
  }
 ],
 "metadata": {
  "kernelspec": {
   "display_name": "Python 3",
   "language": "python",
   "name": "python3"
  },
  "language_info": {
   "codemirror_mode": {
    "name": "ipython",
    "version": 3
   },
   "file_extension": ".py",
   "mimetype": "text/x-python",
   "name": "python",
   "nbconvert_exporter": "python",
   "pygments_lexer": "ipython3",
   "version": "3.12.10"
  }
 },
 "nbformat": 4,
 "nbformat_minor": 5
}
